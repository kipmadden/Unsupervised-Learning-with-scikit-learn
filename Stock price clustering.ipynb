{
 "cells": [
  {
   "cell_type": "markdown",
   "metadata": {},
   "source": [
    "# Stock price clustering\n",
    "\n",
    "Original dataset from the Yahoo Finance\n",
    "and reconfigured by DataCamp named [Company Stock Price Movements](https://assets.datacamp.com/production/repositories/655/datasets/1304e66b1f9799e1a5eac046ef75cf57bb1dd630/company-stock-movements-2010-2015-incl.csv)"
   ]
  },
  {
   "cell_type": "code",
   "execution_count": 4,
   "metadata": {},
   "outputs": [],
   "source": [
    "# Get dependencies\n",
    "import pandas as pd\n",
    "import numpy as np\n",
    "import matplotlib.pyplot as plt\n",
    "from sklearn.cluster import KMeans"
   ]
  },
  {
   "cell_type": "code",
   "execution_count": 5,
   "metadata": {},
   "outputs": [],
   "source": [
    "df = pd.read_csv('https://assets.datacamp.com/production/repositories/655/datasets/1304e66b1f9799e1a5eac046ef75cf57bb1dd630/company-stock-movements-2010-2015-incl.csv')"
   ]
  },
  {
   "cell_type": "code",
   "execution_count": 6,
   "metadata": {},
   "outputs": [
    {
     "data": {
      "text/html": [
       "<div>\n",
       "<style scoped>\n",
       "    .dataframe tbody tr th:only-of-type {\n",
       "        vertical-align: middle;\n",
       "    }\n",
       "\n",
       "    .dataframe tbody tr th {\n",
       "        vertical-align: top;\n",
       "    }\n",
       "\n",
       "    .dataframe thead th {\n",
       "        text-align: right;\n",
       "    }\n",
       "</style>\n",
       "<table border=\"1\" class=\"dataframe\">\n",
       "  <thead>\n",
       "    <tr style=\"text-align: right;\">\n",
       "      <th></th>\n",
       "      <th>Unnamed: 0</th>\n",
       "      <th>2010-01-04</th>\n",
       "      <th>2010-01-05</th>\n",
       "      <th>2010-01-06</th>\n",
       "      <th>2010-01-07</th>\n",
       "      <th>2010-01-08</th>\n",
       "      <th>2010-01-11</th>\n",
       "      <th>2010-01-12</th>\n",
       "      <th>2010-01-13</th>\n",
       "      <th>2010-01-14</th>\n",
       "      <th>...</th>\n",
       "      <th>2013-10-16</th>\n",
       "      <th>2013-10-17</th>\n",
       "      <th>2013-10-18</th>\n",
       "      <th>2013-10-21</th>\n",
       "      <th>2013-10-22</th>\n",
       "      <th>2013-10-23</th>\n",
       "      <th>2013-10-24</th>\n",
       "      <th>2013-10-25</th>\n",
       "      <th>2013-10-28</th>\n",
       "      <th>2013-10-29</th>\n",
       "    </tr>\n",
       "  </thead>\n",
       "  <tbody>\n",
       "    <tr>\n",
       "      <th>0</th>\n",
       "      <td>Apple</td>\n",
       "      <td>0.580000</td>\n",
       "      <td>-0.220005</td>\n",
       "      <td>-3.409998</td>\n",
       "      <td>-1.170000</td>\n",
       "      <td>1.680011</td>\n",
       "      <td>-2.689994</td>\n",
       "      <td>-1.469994</td>\n",
       "      <td>2.779997</td>\n",
       "      <td>-0.680003</td>\n",
       "      <td>...</td>\n",
       "      <td>0.320008</td>\n",
       "      <td>4.519997</td>\n",
       "      <td>2.899987</td>\n",
       "      <td>9.590019</td>\n",
       "      <td>-6.540016</td>\n",
       "      <td>5.959976</td>\n",
       "      <td>6.910011</td>\n",
       "      <td>-5.359962</td>\n",
       "      <td>0.840019</td>\n",
       "      <td>-19.589981</td>\n",
       "    </tr>\n",
       "    <tr>\n",
       "      <th>1</th>\n",
       "      <td>AIG</td>\n",
       "      <td>-0.640002</td>\n",
       "      <td>-0.650000</td>\n",
       "      <td>-0.210001</td>\n",
       "      <td>-0.420000</td>\n",
       "      <td>0.710001</td>\n",
       "      <td>-0.200001</td>\n",
       "      <td>-1.130001</td>\n",
       "      <td>0.069999</td>\n",
       "      <td>-0.119999</td>\n",
       "      <td>...</td>\n",
       "      <td>0.919998</td>\n",
       "      <td>0.709999</td>\n",
       "      <td>0.119999</td>\n",
       "      <td>-0.480000</td>\n",
       "      <td>0.010002</td>\n",
       "      <td>-0.279998</td>\n",
       "      <td>-0.190003</td>\n",
       "      <td>-0.040001</td>\n",
       "      <td>-0.400002</td>\n",
       "      <td>0.660000</td>\n",
       "    </tr>\n",
       "    <tr>\n",
       "      <th>2</th>\n",
       "      <td>Amazon</td>\n",
       "      <td>-2.350006</td>\n",
       "      <td>1.260009</td>\n",
       "      <td>-2.350006</td>\n",
       "      <td>-2.009995</td>\n",
       "      <td>2.960006</td>\n",
       "      <td>-2.309997</td>\n",
       "      <td>-1.640007</td>\n",
       "      <td>1.209999</td>\n",
       "      <td>-1.790001</td>\n",
       "      <td>...</td>\n",
       "      <td>2.109985</td>\n",
       "      <td>3.699982</td>\n",
       "      <td>9.570008</td>\n",
       "      <td>-3.450013</td>\n",
       "      <td>4.820008</td>\n",
       "      <td>-4.079986</td>\n",
       "      <td>2.579986</td>\n",
       "      <td>4.790009</td>\n",
       "      <td>-1.760009</td>\n",
       "      <td>3.740021</td>\n",
       "    </tr>\n",
       "    <tr>\n",
       "      <th>3</th>\n",
       "      <td>American express</td>\n",
       "      <td>0.109997</td>\n",
       "      <td>0.000000</td>\n",
       "      <td>0.260002</td>\n",
       "      <td>0.720002</td>\n",
       "      <td>0.190003</td>\n",
       "      <td>-0.270001</td>\n",
       "      <td>0.750000</td>\n",
       "      <td>0.300004</td>\n",
       "      <td>0.639999</td>\n",
       "      <td>...</td>\n",
       "      <td>0.680001</td>\n",
       "      <td>2.290001</td>\n",
       "      <td>0.409996</td>\n",
       "      <td>-0.069999</td>\n",
       "      <td>0.100006</td>\n",
       "      <td>0.069999</td>\n",
       "      <td>0.130005</td>\n",
       "      <td>1.849999</td>\n",
       "      <td>0.040001</td>\n",
       "      <td>0.540001</td>\n",
       "    </tr>\n",
       "    <tr>\n",
       "      <th>4</th>\n",
       "      <td>Boeing</td>\n",
       "      <td>0.459999</td>\n",
       "      <td>1.770000</td>\n",
       "      <td>1.549999</td>\n",
       "      <td>2.690003</td>\n",
       "      <td>0.059997</td>\n",
       "      <td>-1.080002</td>\n",
       "      <td>0.360000</td>\n",
       "      <td>0.549999</td>\n",
       "      <td>0.530002</td>\n",
       "      <td>...</td>\n",
       "      <td>1.559997</td>\n",
       "      <td>2.480003</td>\n",
       "      <td>0.019997</td>\n",
       "      <td>-1.220001</td>\n",
       "      <td>0.480003</td>\n",
       "      <td>3.020004</td>\n",
       "      <td>-0.029999</td>\n",
       "      <td>1.940002</td>\n",
       "      <td>1.130005</td>\n",
       "      <td>0.309998</td>\n",
       "    </tr>\n",
       "  </tbody>\n",
       "</table>\n",
       "<p>5 rows × 964 columns</p>\n",
       "</div>"
      ],
      "text/plain": [
       "         Unnamed: 0  2010-01-04  2010-01-05  2010-01-06  2010-01-07  \\\n",
       "0             Apple    0.580000   -0.220005   -3.409998   -1.170000   \n",
       "1               AIG   -0.640002   -0.650000   -0.210001   -0.420000   \n",
       "2            Amazon   -2.350006    1.260009   -2.350006   -2.009995   \n",
       "3  American express    0.109997    0.000000    0.260002    0.720002   \n",
       "4            Boeing    0.459999    1.770000    1.549999    2.690003   \n",
       "\n",
       "   2010-01-08  2010-01-11  2010-01-12  2010-01-13  2010-01-14  ...  \\\n",
       "0    1.680011   -2.689994   -1.469994    2.779997   -0.680003  ...   \n",
       "1    0.710001   -0.200001   -1.130001    0.069999   -0.119999  ...   \n",
       "2    2.960006   -2.309997   -1.640007    1.209999   -1.790001  ...   \n",
       "3    0.190003   -0.270001    0.750000    0.300004    0.639999  ...   \n",
       "4    0.059997   -1.080002    0.360000    0.549999    0.530002  ...   \n",
       "\n",
       "   2013-10-16  2013-10-17  2013-10-18  2013-10-21  2013-10-22  2013-10-23  \\\n",
       "0    0.320008    4.519997    2.899987    9.590019   -6.540016    5.959976   \n",
       "1    0.919998    0.709999    0.119999   -0.480000    0.010002   -0.279998   \n",
       "2    2.109985    3.699982    9.570008   -3.450013    4.820008   -4.079986   \n",
       "3    0.680001    2.290001    0.409996   -0.069999    0.100006    0.069999   \n",
       "4    1.559997    2.480003    0.019997   -1.220001    0.480003    3.020004   \n",
       "\n",
       "   2013-10-24  2013-10-25  2013-10-28  2013-10-29  \n",
       "0    6.910011   -5.359962    0.840019  -19.589981  \n",
       "1   -0.190003   -0.040001   -0.400002    0.660000  \n",
       "2    2.579986    4.790009   -1.760009    3.740021  \n",
       "3    0.130005    1.849999    0.040001    0.540001  \n",
       "4   -0.029999    1.940002    1.130005    0.309998  \n",
       "\n",
       "[5 rows x 964 columns]"
      ]
     },
     "execution_count": 6,
     "metadata": {},
     "output_type": "execute_result"
    }
   ],
   "source": [
    "df.head()"
   ]
  },
  {
   "cell_type": "code",
   "execution_count": 9,
   "metadata": {},
   "outputs": [
    {
     "data": {
      "text/plain": [
       "Index(['Unnamed: 0', '2010-01-04', '2010-01-05', '2010-01-06', '2010-01-07',\n",
       "       '2010-01-08', '2010-01-11', '2010-01-12', '2010-01-13', '2010-01-14',\n",
       "       ...\n",
       "       '2013-10-16', '2013-10-17', '2013-10-18', '2013-10-21', '2013-10-22',\n",
       "       '2013-10-23', '2013-10-24', '2013-10-25', '2013-10-28', '2013-10-29'],\n",
       "      dtype='object', length=964)"
      ]
     },
     "execution_count": 9,
     "metadata": {},
     "output_type": "execute_result"
    }
   ],
   "source": [
    "df.columns"
   ]
  },
  {
   "cell_type": "code",
   "execution_count": 30,
   "metadata": {},
   "outputs": [],
   "source": [
    "df.rename(columns={'Unnamed: 0':'company_name'}, inplace=True)"
   ]
  },
  {
   "cell_type": "code",
   "execution_count": 31,
   "metadata": {},
   "outputs": [],
   "source": [
    "companies = df['company_name'].unique().tolist()"
   ]
  },
  {
   "cell_type": "code",
   "execution_count": 32,
   "metadata": {},
   "outputs": [
    {
     "data": {
      "text/plain": [
       "['Apple',\n",
       " 'AIG',\n",
       " 'Amazon',\n",
       " 'American express',\n",
       " 'Boeing',\n",
       " 'Bank of America',\n",
       " 'British American Tobacco',\n",
       " 'Canon',\n",
       " 'Caterpillar',\n",
       " 'Colgate-Palmolive',\n",
       " 'ConocoPhillips',\n",
       " 'Cisco',\n",
       " 'Chevron',\n",
       " 'DuPont de Nemours',\n",
       " 'Dell',\n",
       " 'Ford',\n",
       " 'General Electrics',\n",
       " 'Google/Alphabet',\n",
       " 'Goldman Sachs',\n",
       " 'GlaxoSmithKline',\n",
       " 'Home Depot',\n",
       " 'Honda',\n",
       " 'HP',\n",
       " 'IBM',\n",
       " 'Intel',\n",
       " 'Johnson & Johnson',\n",
       " 'JPMorgan Chase',\n",
       " 'Kimberly-Clark',\n",
       " 'Coca Cola',\n",
       " 'Lookheed Martin',\n",
       " 'MasterCard',\n",
       " 'McDonalds',\n",
       " '3M',\n",
       " 'Microsoft',\n",
       " 'Mitsubishi',\n",
       " 'Navistar',\n",
       " 'Northrop Grumman',\n",
       " 'Novartis',\n",
       " 'Pepsi',\n",
       " 'Pfizer',\n",
       " 'Procter Gamble',\n",
       " 'Philip Morris',\n",
       " 'Royal Dutch Shell',\n",
       " 'SAP',\n",
       " 'Schlumberger',\n",
       " 'Sony',\n",
       " 'Sanofi-Aventis',\n",
       " 'Symantec',\n",
       " 'Toyota',\n",
       " 'Total',\n",
       " 'Taiwan Semiconductor Manufacturing',\n",
       " 'Texas instruments',\n",
       " 'Unilever',\n",
       " 'Valero Energy',\n",
       " 'Walgreen',\n",
       " 'Wells Fargo',\n",
       " 'Wal-Mart',\n",
       " 'Exxon',\n",
       " 'Xerox',\n",
       " 'Yahoo']"
      ]
     },
     "execution_count": 32,
     "metadata": {},
     "output_type": "execute_result"
    }
   ],
   "source": [
    "companies"
   ]
  },
  {
   "cell_type": "code",
   "execution_count": 33,
   "metadata": {},
   "outputs": [],
   "source": [
    "movements = df.drop('company_name', axis=1).values"
   ]
  },
  {
   "cell_type": "code",
   "execution_count": 34,
   "metadata": {},
   "outputs": [
    {
     "data": {
      "text/plain": [
       "array([[ 5.8000000e-01, -2.2000500e-01, -3.4099980e+00, ...,\n",
       "        -5.3599620e+00,  8.4001900e-01, -1.9589981e+01],\n",
       "       [-6.4000200e-01, -6.5000000e-01, -2.1000100e-01, ...,\n",
       "        -4.0001000e-02, -4.0000200e-01,  6.6000000e-01],\n",
       "       [-2.3500060e+00,  1.2600090e+00, -2.3500060e+00, ...,\n",
       "         4.7900090e+00, -1.7600090e+00,  3.7400210e+00],\n",
       "       ...,\n",
       "       [ 4.3000100e-01,  2.2999600e-01,  5.7000000e-01, ...,\n",
       "        -2.6000200e-01,  4.0000100e-01,  4.8000300e-01],\n",
       "       [ 9.0000000e-02,  1.0000000e-02, -8.0000000e-02, ...,\n",
       "        -3.0000000e-02,  2.0000000e-02, -3.0000000e-02],\n",
       "       [ 1.5999900e-01,  1.0001000e-02,  0.0000000e+00, ...,\n",
       "        -6.0001000e-02,  2.5999800e-01,  9.9998000e-02]])"
      ]
     },
     "execution_count": 34,
     "metadata": {},
     "output_type": "execute_result"
    }
   ],
   "source": [
    "movements"
   ]
  },
  {
   "cell_type": "markdown",
   "metadata": {},
   "source": [
    "## Cluster stocks using KMeans in a pipeline\n",
    "\n",
    "First we need to Normlize the data. Normalizer() rescales each sample independently of the other. Unlike StandarScaler() which standardizes features by removing the mean and scaling to unit variance"
   ]
  },
  {
   "cell_type": "code",
   "execution_count": 39,
   "metadata": {},
   "outputs": [],
   "source": [
    "# Import dependencies\n",
    "from sklearn.preprocessing import Normalizer\n",
    "from sklearn.pipeline import make_pipeline"
   ]
  },
  {
   "cell_type": "code",
   "execution_count": 40,
   "metadata": {},
   "outputs": [],
   "source": [
    "# Create a normalizer: normalizer\n",
    "normalizer = Normalizer()"
   ]
  },
  {
   "cell_type": "code",
   "execution_count": 41,
   "metadata": {},
   "outputs": [],
   "source": [
    "# Create a KMeans model with 10 clusters: kmeans\n",
    "kmeans = KMeans(n_clusters=10)"
   ]
  },
  {
   "cell_type": "code",
   "execution_count": 42,
   "metadata": {},
   "outputs": [],
   "source": [
    "# Make a pipeline chaining normalizer and kmeans: pipeline\n",
    "pipeline = make_pipeline(normalizer, kmeans)"
   ]
  },
  {
   "cell_type": "code",
   "execution_count": 43,
   "metadata": {},
   "outputs": [
    {
     "data": {
      "text/plain": [
       "Pipeline(steps=[('normalizer', Normalizer()),\n",
       "                ('kmeans', KMeans(n_clusters=10))])"
      ]
     },
     "execution_count": 43,
     "metadata": {},
     "output_type": "execute_result"
    }
   ],
   "source": [
    "# Fit pipeline to the daily price movements\n",
    "pipeline.fit(movements)"
   ]
  },
  {
   "cell_type": "code",
   "execution_count": 44,
   "metadata": {},
   "outputs": [],
   "source": [
    "# Predict the cluster labels: labels\n",
    "labels = pipeline.predict(movements)"
   ]
  },
  {
   "cell_type": "code",
   "execution_count": 45,
   "metadata": {},
   "outputs": [],
   "source": [
    "# Create a DataFrame aligning labels and companies: df\n",
    "norm_df = pd.DataFrame({'labels': labels, 'companies': companies})"
   ]
  },
  {
   "cell_type": "code",
   "execution_count": 46,
   "metadata": {},
   "outputs": [
    {
     "name": "stdout",
     "output_type": "stream",
     "text": [
      "    labels                           companies\n",
      "45       0                                Sony\n",
      "7        0                               Canon\n",
      "59       1                               Yahoo\n",
      "34       1                          Mitsubishi\n",
      "30       1                          MasterCard\n",
      "21       1                               Honda\n",
      "20       1                          Home Depot\n",
      "17       1                     Google/Alphabet\n",
      "48       1                              Toyota\n",
      "2        1                              Amazon\n",
      "28       2                           Coca Cola\n",
      "31       2                           McDonalds\n",
      "56       2                            Wal-Mart\n",
      "38       2                               Pepsi\n",
      "46       3                      Sanofi-Aventis\n",
      "52       3                            Unilever\n",
      "19       3                     GlaxoSmithKline\n",
      "49       3                               Total\n",
      "37       3                            Novartis\n",
      "42       3                   Royal Dutch Shell\n",
      "43       3                                 SAP\n",
      "6        3            British American Tobacco\n",
      "58       4                               Xerox\n",
      "35       4                            Navistar\n",
      "39       4                              Pfizer\n",
      "32       4                                  3M\n",
      "44       4                        Schlumberger\n",
      "8        4                         Caterpillar\n",
      "23       4                                 IBM\n",
      "25       4                   Johnson & Johnson\n",
      "53       4                       Valero Energy\n",
      "10       4                      ConocoPhillips\n",
      "57       4                               Exxon\n",
      "12       4                             Chevron\n",
      "13       4                   DuPont de Nemours\n",
      "16       4                   General Electrics\n",
      "9        5                   Colgate-Palmolive\n",
      "27       5                      Kimberly-Clark\n",
      "40       5                      Procter Gamble\n",
      "41       6                       Philip Morris\n",
      "1        7                                 AIG\n",
      "26       7                      JPMorgan Chase\n",
      "18       7                       Goldman Sachs\n",
      "5        7                     Bank of America\n",
      "3        7                    American express\n",
      "55       7                         Wells Fargo\n",
      "15       7                                Ford\n",
      "54       8                            Walgreen\n",
      "29       8                     Lookheed Martin\n",
      "36       8                    Northrop Grumman\n",
      "4        8                              Boeing\n",
      "50       9  Taiwan Semiconductor Manufacturing\n",
      "51       9                   Texas instruments\n",
      "33       9                           Microsoft\n",
      "24       9                               Intel\n",
      "22       9                                  HP\n",
      "14       9                                Dell\n",
      "11       9                               Cisco\n",
      "47       9                            Symantec\n",
      "0        9                               Apple\n"
     ]
    }
   ],
   "source": [
    "# Display norm_df sorted by cluster label\n",
    "print(norm_df.sort_values('labels'))"
   ]
  },
  {
   "cell_type": "markdown",
   "metadata": {},
   "source": [
    "## Hierarchies of stocks"
   ]
  },
  {
   "cell_type": "code",
   "execution_count": 47,
   "metadata": {},
   "outputs": [],
   "source": [
    "# Import dependencies\n",
    "from sklearn.preprocessing import normalize\n",
    "from scipy.cluster.hierarchy import linkage, dendrogram"
   ]
  },
  {
   "cell_type": "code",
   "execution_count": 48,
   "metadata": {},
   "outputs": [],
   "source": [
    "# Normalize the movements: normalized_movements\n",
    "normalized_movements = normalize(movements)"
   ]
  },
  {
   "cell_type": "code",
   "execution_count": 49,
   "metadata": {},
   "outputs": [],
   "source": [
    "# Calculate the linkage: mergings\n",
    "mergings = linkage(normalized_movements, method='complete')"
   ]
  },
  {
   "cell_type": "code",
   "execution_count": 50,
   "metadata": {},
   "outputs": [
    {
     "data": {
      "image/png": "[encoded data removed]",
      "text/plain": [
       "<Figure size 1080x720 with 1 Axes>"
      ]
     },
     "metadata": {
      "needs_background": "light"
     },
     "output_type": "display_data"
    }
   ],
   "source": [
    "# Plot the dendrogram\n",
    "fig, ax = plt.subplots(figsize=(15,10))\n",
    "dendrogram(mergings,\n",
    "           labels=companies,\n",
    "           leaf_rotation=90,\n",
    "           leaf_font_size=6,\n",
    "          ax = ax)\n",
    "plt.show()"
   ]
  },
  {
   "cell_type": "code",
   "execution_count": null,
   "metadata": {},
   "outputs": [],
   "source": []
  }
 ],
 "metadata": {
  "kernelspec": {
   "display_name": "Python 3",
   "language": "python",
   "name": "python3"
  },
  "language_info": {
   "codemirror_mode": {
    "name": "ipython",
    "version": 3
   },
   "file_extension": ".py",
   "mimetype": "text/x-python",
   "name": "python",
   "nbconvert_exporter": "python",
   "pygments_lexer": "ipython3",
   "version": "3.7.9"
  }
 },
 "nbformat": 4,
 "nbformat_minor": 4
}
